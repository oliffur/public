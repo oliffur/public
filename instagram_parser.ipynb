{
  "nbformat": 4,
  "nbformat_minor": 0,
  "metadata": {
    "colab": {
      "provenance": [],
      "authorship_tag": "ABX9TyOl2yqYYMYzqVe9n4bHZFob",
      "include_colab_link": true
    },
    "kernelspec": {
      "name": "python3",
      "display_name": "Python 3"
    },
    "language_info": {
      "name": "python"
    }
  },
  "cells": [
    {
      "cell_type": "markdown",
      "metadata": {
        "id": "view-in-github",
        "colab_type": "text"
      },
      "source": [
        "<a href=\"https://colab.research.google.com/github/oliffur/public/blob/main/instagram_parser.ipynb\" target=\"_parent\"><img src=\"https://colab.research.google.com/assets/colab-badge.svg\" alt=\"Open In Colab\"/></a>"
      ]
    },
    {
      "cell_type": "code",
      "execution_count": null,
      "metadata": {
        "id": "BVbTkXK748SA"
      },
      "outputs": [],
      "source": [
        "# Instagram -> Settings -> Your Activity -> Download Data -> Custom -> Followers and Following -> Save as json\n",
        "# Import in following.json and followers_1.json"
      ]
    },
    {
      "cell_type": "code",
      "source": [
        "import csv\n",
        "import json"
      ],
      "metadata": {
        "id": "V5xw6qM55O4l"
      },
      "execution_count": 38,
      "outputs": []
    },
    {
      "cell_type": "code",
      "source": [
        "with open('following.json') as f:\n",
        "  following_json = json.load(f)\n",
        "\n",
        "with open('followers_1.json') as f:\n",
        "  followers_json = json.load(f)"
      ],
      "metadata": {
        "id": "V7CfUkVX5P4h"
      },
      "execution_count": 8,
      "outputs": []
    },
    {
      "cell_type": "code",
      "source": [
        "following = [dct['string_list_data'][0]['value'] for dct in following_json['relationships_following']]\n",
        "followers = [dct['string_list_data'][0]['value'] for dct in followers_json]"
      ],
      "metadata": {
        "id": "HSeXo8XO5hhu"
      },
      "execution_count": 30,
      "outputs": []
    },
    {
      "cell_type": "code",
      "source": [
        "# sanity check\n",
        "assert len(following_json.keys()) == 1, \"check keys of following_json...\"\n",
        "errors = [dct for dct in following_json['relationships_following'] if len(dct['string_list_data']) > 1]\n",
        "assert len(errors) == 0, f\"following_json extra string list data {errors}\"\n",
        "errors = [dct for dct in followers_json if len(dct['string_list_data']) > 1]\n",
        "assert len(errors) == 0, f\"followers_json extra string list data {errors}\""
      ],
      "metadata": {
        "id": "vm8gLFtX6PfL"
      },
      "execution_count": 19,
      "outputs": []
    },
    {
      "cell_type": "code",
      "source": [
        "following_not_follower = set(following).difference(followers)\n",
        "follower_not_following = set(followers).difference(following)\n",
        "mutuals = set(followers).intersection(following)"
      ],
      "metadata": {
        "id": "QhGgE6zF7WRG"
      },
      "execution_count": 35,
      "outputs": []
    },
    {
      "cell_type": "code",
      "source": [
        "# Sorted\n",
        "mutuals_list = [f for f in followers if f in mutuals]"
      ],
      "metadata": {
        "id": "6ye5GaM-78CU"
      },
      "execution_count": 36,
      "outputs": []
    },
    {
      "cell_type": "code",
      "source": [
        "with open('mutuals.csv', 'w') as f:\n",
        "    writer = csv.writer(f)\n",
        "    writer.writerow(mutuals_list)"
      ],
      "metadata": {
        "id": "ff1UbqOd9TeU"
      },
      "execution_count": 41,
      "outputs": []
    }
  ]
}